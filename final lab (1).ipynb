{
 "cells": [
  {
   "cell_type": "markdown",
   "id": "1cda139f-8bf9-4e9d-b74e-39940a44dacd",
   "metadata": {},
   "source": [
    "# 导入所需库"
   ]
  },
  {
   "cell_type": "code",
   "execution_count": 2,
   "id": "6b8ad14c-2290-49f7-bb5f-95702597cd03",
   "metadata": {
    "tags": []
   },
   "outputs": [],
   "source": [
    "import pandas as pd\n",
    "import scipy.stats as stats\n",
    "import statsmodels.api as sm\n",
    "import matplotlib.pyplot as plt"
   ]
  },
  {
   "cell_type": "markdown",
   "id": "0082f622-43ab-4e28-825b-2d9111c21d27",
   "metadata": {},
   "source": [
    "# 加载波士顿住房数据集"
   ]
  },
  {
   "cell_type": "code",
   "execution_count": 3,
   "id": "2b1bf0f1-9897-4807-80a3-a52a91669cd0",
   "metadata": {
    "tags": []
   },
   "outputs": [],
   "source": [
    "boston_url = 'https://cf-courses-data.s3.us.cloud-object-storage.appdomain.cloud/IBMDeveloperSkillsNetwork-ST0151EN-SkillsNetwork/labs/boston_housing.csv'\n",
    "boston_df = pd.read_csv(boston_url)"
   ]
  },
  {
   "cell_type": "markdown",
   "id": "aafb3123-a74b-4087-9007-55777b6d837d",
   "metadata": {},
   "source": [
    "# 问题 1：以查尔斯河为界的房屋中值是否存在明显差异？"
   ]
  },
  {
   "cell_type": "code",
   "execution_count": 4,
   "id": "a90d7cc5-d891-4e88-9733-beab5e1b8e4e",
   "metadata": {
    "tags": []
   },
   "outputs": [
    {
     "name": "stdout",
     "output_type": "stream",
     "text": [
      "以查尔斯河为界的房屋中值存在明显差异\n"
     ]
    }
   ],
   "source": [
    "charles_river_houses = boston_df[boston_df['CHAS'] == 1]['MEDV']\n",
    "non_charles_river_houses = boston_df[boston_df['CHAS'] == 0]['MEDV']\n",
    "t_statistic, p_value = stats.ttest_ind(charles_river_houses, non_charles_river_houses)\n",
    "if p_value < 0.05:\n",
    "    print(\"以查尔斯河为界的房屋中值存在明显差异\")\n",
    "else:\n",
    "    print(\"以查尔斯河为界的房屋中值不存在明显差异\")"
   ]
  },
  {
   "cell_type": "markdown",
   "id": "ab65717f-e6f3-4cf1-a0a2-f1dca9d33778",
   "metadata": {},
   "source": [
    "# 问题 2：建于 1940 年之前的自住单位（AGE）的各比例房屋价值中值（MEDV）是否存在差异？"
   ]
  },
  {
   "cell_type": "code",
   "execution_count": 5,
   "id": "b7a35407-816b-488b-ab06-bff04a4e7c95",
   "metadata": {
    "tags": []
   },
   "outputs": [
    {
     "name": "stdout",
     "output_type": "stream",
     "text": [
      "建于 1940 年之前的自住单位的不同比例的房屋价值中值存在差异\n"
     ]
    }
   ],
   "source": [
    "age_group_1 = boston_df[boston_df['AGE'] <= 35]['MEDV']\n",
    "age_group_2 = boston_df[(boston_df['AGE'] > 35) & (boston_df['AGE'] <= 70)]['MEDV']\n",
    "age_group_3 = boston_df[boston_df['AGE'] > 70]['MEDV']\n",
    "f_statistic, p_value = stats.f_oneway(age_group_1, age_group_2, age_group_3)\n",
    "if p_value < 0.05:\n",
    "    print(\"建于 1940 年之前的自住单位的不同比例的房屋价值中值存在差异\")\n",
    "else:\n",
    "    print(\"建于 1940 年之前的自住单位的不同比例的房屋价值中值不存在差异\")"
   ]
  },
  {
   "cell_type": "markdown",
   "id": "9a5e391b-986f-45a6-b929-00880cc09dca",
   "metadata": {},
   "source": [
    "# 问题 3：一氧化氮浓度与每个城镇的非零售商业亩数比例之间是否存在关系？"
   ]
  },
  {
   "cell_type": "code",
   "execution_count": 6,
   "id": "f5a7ed1d-26f1-448d-a984-b52862c3d0eb",
   "metadata": {
    "tags": []
   },
   "outputs": [
    {
     "name": "stderr",
     "output_type": "stream",
     "text": [
      "C:\\Users\\Nurbek\\anaconda3\\Lib\\site-packages\\IPython\\core\\pylabtools.py:152: UserWarning: Glyph 38750 (\\N{CJK UNIFIED IDEOGRAPH-975E}) missing from current font.\n",
      "  fig.canvas.print_figure(bytes_io, **kw)\n",
      "C:\\Users\\Nurbek\\anaconda3\\Lib\\site-packages\\IPython\\core\\pylabtools.py:152: UserWarning: Glyph 38646 (\\N{CJK UNIFIED IDEOGRAPH-96F6}) missing from current font.\n",
      "  fig.canvas.print_figure(bytes_io, **kw)\n",
      "C:\\Users\\Nurbek\\anaconda3\\Lib\\site-packages\\IPython\\core\\pylabtools.py:152: UserWarning: Glyph 21806 (\\N{CJK UNIFIED IDEOGRAPH-552E}) missing from current font.\n",
      "  fig.canvas.print_figure(bytes_io, **kw)\n",
      "C:\\Users\\Nurbek\\anaconda3\\Lib\\site-packages\\IPython\\core\\pylabtools.py:152: UserWarning: Glyph 21830 (\\N{CJK UNIFIED IDEOGRAPH-5546}) missing from current font.\n",
      "  fig.canvas.print_figure(bytes_io, **kw)\n",
      "C:\\Users\\Nurbek\\anaconda3\\Lib\\site-packages\\IPython\\core\\pylabtools.py:152: UserWarning: Glyph 19994 (\\N{CJK UNIFIED IDEOGRAPH-4E1A}) missing from current font.\n",
      "  fig.canvas.print_figure(bytes_io, **kw)\n",
      "C:\\Users\\Nurbek\\anaconda3\\Lib\\site-packages\\IPython\\core\\pylabtools.py:152: UserWarning: Glyph 20137 (\\N{CJK UNIFIED IDEOGRAPH-4EA9}) missing from current font.\n",
      "  fig.canvas.print_figure(bytes_io, **kw)\n",
      "C:\\Users\\Nurbek\\anaconda3\\Lib\\site-packages\\IPython\\core\\pylabtools.py:152: UserWarning: Glyph 25968 (\\N{CJK UNIFIED IDEOGRAPH-6570}) missing from current font.\n",
      "  fig.canvas.print_figure(bytes_io, **kw)\n",
      "C:\\Users\\Nurbek\\anaconda3\\Lib\\site-packages\\IPython\\core\\pylabtools.py:152: UserWarning: Glyph 27604 (\\N{CJK UNIFIED IDEOGRAPH-6BD4}) missing from current font.\n",
      "  fig.canvas.print_figure(bytes_io, **kw)\n",
      "C:\\Users\\Nurbek\\anaconda3\\Lib\\site-packages\\IPython\\core\\pylabtools.py:152: UserWarning: Glyph 20363 (\\N{CJK UNIFIED IDEOGRAPH-4F8B}) missing from current font.\n",
      "  fig.canvas.print_figure(bytes_io, **kw)\n",
      "C:\\Users\\Nurbek\\anaconda3\\Lib\\site-packages\\IPython\\core\\pylabtools.py:152: UserWarning: Glyph 19968 (\\N{CJK UNIFIED IDEOGRAPH-4E00}) missing from current font.\n",
      "  fig.canvas.print_figure(bytes_io, **kw)\n",
      "C:\\Users\\Nurbek\\anaconda3\\Lib\\site-packages\\IPython\\core\\pylabtools.py:152: UserWarning: Glyph 27687 (\\N{CJK UNIFIED IDEOGRAPH-6C27}) missing from current font.\n",
      "  fig.canvas.print_figure(bytes_io, **kw)\n",
      "C:\\Users\\Nurbek\\anaconda3\\Lib\\site-packages\\IPython\\core\\pylabtools.py:152: UserWarning: Glyph 21270 (\\N{CJK UNIFIED IDEOGRAPH-5316}) missing from current font.\n",
      "  fig.canvas.print_figure(bytes_io, **kw)\n",
      "C:\\Users\\Nurbek\\anaconda3\\Lib\\site-packages\\IPython\\core\\pylabtools.py:152: UserWarning: Glyph 27694 (\\N{CJK UNIFIED IDEOGRAPH-6C2E}) missing from current font.\n",
      "  fig.canvas.print_figure(bytes_io, **kw)\n",
      "C:\\Users\\Nurbek\\anaconda3\\Lib\\site-packages\\IPython\\core\\pylabtools.py:152: UserWarning: Glyph 27987 (\\N{CJK UNIFIED IDEOGRAPH-6D53}) missing from current font.\n",
      "  fig.canvas.print_figure(bytes_io, **kw)\n",
      "C:\\Users\\Nurbek\\anaconda3\\Lib\\site-packages\\IPython\\core\\pylabtools.py:152: UserWarning: Glyph 24230 (\\N{CJK UNIFIED IDEOGRAPH-5EA6}) missing from current font.\n",
      "  fig.canvas.print_figure(bytes_io, **kw)\n",
      "C:\\Users\\Nurbek\\anaconda3\\Lib\\site-packages\\IPython\\core\\pylabtools.py:152: UserWarning: Glyph 19982 (\\N{CJK UNIFIED IDEOGRAPH-4E0E}) missing from current font.\n",
      "  fig.canvas.print_figure(bytes_io, **kw)\n",
      "C:\\Users\\Nurbek\\anaconda3\\Lib\\site-packages\\IPython\\core\\pylabtools.py:152: UserWarning: Glyph 20043 (\\N{CJK UNIFIED IDEOGRAPH-4E4B}) missing from current font.\n",
      "  fig.canvas.print_figure(bytes_io, **kw)\n",
      "C:\\Users\\Nurbek\\anaconda3\\Lib\\site-packages\\IPython\\core\\pylabtools.py:152: UserWarning: Glyph 38388 (\\N{CJK UNIFIED IDEOGRAPH-95F4}) missing from current font.\n",
      "  fig.canvas.print_figure(bytes_io, **kw)\n",
      "C:\\Users\\Nurbek\\anaconda3\\Lib\\site-packages\\IPython\\core\\pylabtools.py:152: UserWarning: Glyph 30340 (\\N{CJK UNIFIED IDEOGRAPH-7684}) missing from current font.\n",
      "  fig.canvas.print_figure(bytes_io, **kw)\n",
      "C:\\Users\\Nurbek\\anaconda3\\Lib\\site-packages\\IPython\\core\\pylabtools.py:152: UserWarning: Glyph 20851 (\\N{CJK UNIFIED IDEOGRAPH-5173}) missing from current font.\n",
      "  fig.canvas.print_figure(bytes_io, **kw)\n",
      "C:\\Users\\Nurbek\\anaconda3\\Lib\\site-packages\\IPython\\core\\pylabtools.py:152: UserWarning: Glyph 31995 (\\N{CJK UNIFIED IDEOGRAPH-7CFB}) missing from current font.\n",
      "  fig.canvas.print_figure(bytes_io, **kw)\n"
     ]
    },
    {
     "data": {
      "image/png": "[encoded data removed]",
      "text/plain": [
       "<Figure size 640x480 with 1 Axes>"
      ]
     },
     "metadata": {},
     "output_type": "display_data"
    }
   ],
   "source": [
    "plt.scatter(boston_df['NOX'], boston_df['INDUS'])\n",
    "plt.xlabel('一氧化氮浓度')\n",
    "plt.ylabel('非零售商业亩数比例')\n",
    "plt.title('一氧化氮浓度与非零售商业亩数比例之间的关系')\n",
    "plt.show()"
   ]
  },
  {
   "cell_type": "markdown",
   "id": "faeed061-0a7a-4f48-975e-d4b0d8e55b3b",
   "metadata": {},
   "source": [
    "# 问题 4：波士顿五个就业中心的额外加权距离对自住房屋的中值有何影响？"
   ]
  },
  {
   "cell_type": "code",
   "execution_count": 7,
   "id": "77ee78f8-3f64-4e18-b31e-ed43656a6068",
   "metadata": {
    "tags": []
   },
   "outputs": [
    {
     "name": "stdout",
     "output_type": "stream",
     "text": [
      "                            OLS Regression Results                            \n",
      "==============================================================================\n",
      "Dep. Variable:                   MEDV   R-squared:                       0.062\n",
      "Model:                            OLS   Adj. R-squared:                  0.061\n",
      "Method:                 Least Squares   F-statistic:                     33.58\n",
      "Date:                Thu, 18 Apr 2024   Prob (F-statistic):           1.21e-08\n",
      "Time:                        17:03:15   Log-Likelihood:                -1823.9\n",
      "No. Observations:                 506   AIC:                             3652.\n",
      "Df Residuals:                     504   BIC:                             3660.\n",
      "Df Model:                           1                                         \n",
      "Covariance Type:            nonrobust                                         \n",
      "==============================================================================\n",
      "                 coef    std err          t      P>|t|      [0.025      0.975]\n",
      "------------------------------------------------------------------------------\n",
      "const         18.3901      0.817     22.499      0.000      16.784      19.996\n",
      "DIS            1.0916      0.188      5.795      0.000       0.722       1.462\n",
      "==============================================================================\n",
      "Omnibus:                      139.779   Durbin-Watson:                   0.570\n",
      "Prob(Omnibus):                  0.000   Jarque-Bera (JB):              305.104\n",
      "Skew:                           1.466   Prob(JB):                     5.59e-67\n",
      "Kurtosis:                       5.424   Cond. No.                         9.32\n",
      "==============================================================================\n",
      "\n",
      "Notes:\n",
      "[1] Standard Errors assume that the covariance matrix of the errors is correctly specified.\n"
     ]
    }
   ],
   "source": [
    "X = boston_df['DIS']\n",
    "y = boston_df['MEDV']\n",
    "X = sm.add_constant(X)\n",
    "model = sm.OLS(y, X).fit()\n",
    "print(model.summary())"
   ]
  },
  {
   "cell_type": "code",
   "execution_count": null,
   "id": "45431d19-df93-48ec-afd1-a3c00a43ac25",
   "metadata": {},
   "outputs": [],
   "source": []
  }
 ],
 "metadata": {
  "kernelspec": {
   "display_name": "Python 3 (ipykernel)",
   "language": "python",
   "name": "python3"
  },
  "language_info": {
   "codemirror_mode": {
    "name": "ipython",
    "version": 3
   },
   "file_extension": ".py",
   "mimetype": "text/x-python",
   "name": "python",
   "nbconvert_exporter": "python",
   "pygments_lexer": "ipython3",
   "version": "3.11.5"
  }
 },
 "nbformat": 4,
 "nbformat_minor": 5
}
